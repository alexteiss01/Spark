{
  "cells": [
    {
      "cell_type": "markdown",
      "source": [
        "---\n",
        "\n",
        "# SPARKLE MOVIE\n",
        "\n",
        "---\n",
        "\n",
        "\n",
        "Création d'un système de recommandation de films à partir de la base de données MoviesLens."
      ],
      "metadata": {
        "id": "McAvbQSAPxPE"
      }
    },
    {
      "cell_type": "markdown",
      "source": [
        "## 1. Contexte et objectifs du projet"
      ],
      "metadata": {
        "id": "dD7ApVF1Qzin"
      }
    },
    {
      "cell_type": "markdown",
      "source": [
        "La base de données **MoviesLens** est un dataset assez connu en apprentissage automatique, aussi bien pour la recherche académique que pour des applications pratiques. Elle est généralement utilisée **pour entraîner des modèles de recommandations, et pour tester et comparer des algorithmes de recommandation, d’analyse de préférences et de filtrage collaboratif**. Nous utilisons pour ce projet la version MovieLens 32M, publiée par le groupe de recherche GroupLens en mai 2024, et qui contient les fichiers suivants:\n",
        "\n",
        "\n",
        "\n",
        "\n",
        "*   **movies.csv** : les informations sur les films (titre, genres, etc.)\n",
        "*   **ratings.csv** :  les notes attribuées par les utilisateurs aux films (note de 0.5 à 5 étoiles)\n",
        "*   **tags.csv** : les tags appliqués par les utilisateurs aux films\n",
        "*   **links.csv** : des identifiants pour relier les films à d’autres bases (IMDB, TMDb)\n",
        "*   **README.txt** : des identifiants pour relier les films à d’autres bases (IMDB, TMDb).\n",
        "\n",
        "Nous travaillons sur ces données en utilisant Spark, car pour de gros volumes de données (32 millions de lignes), cette approche permet de manipuler et d'explorer l'ensemble des données sans risques de crash mémoire. De plus, Spark assure la faisabilité technique des traitements en vue d'entraîner et d'évaluer les systèmes de recommandations. Enfin, il offre toute la flexibilité pour l’industrialisation, la reproductibilité des pipelines et le passage au déploiement à l’échelle réelle (cloud, entreprise).\n",
        "\n",
        "C’est donc le standard pour traiter, entraîner, et évaluer des systèmes complexes de recommandation sur des jeux de données de cette ampleur.\n",
        "\n",
        "L'objectif de ce projet est donc de mettre en place des systèmes de recommandations de films, utilisant divers algorithmes, afin de pouvoir suggérer des films aux utilisateurs, d'évaluer la performance des recommandations, puis de discuter des différences/ressemblances entre les diverses approches utilisées."
      ],
      "metadata": {
        "id": "Ith1NOKiRkoD"
      }
    },
    {
      "cell_type": "markdown",
      "metadata": {
        "id": "JWwwQte9sBpc"
      },
      "source": [
        "## 2. Chargement des librairies"
      ]
    },
    {
      "cell_type": "code",
      "execution_count": null,
      "metadata": {
        "id": "1i_1-BG0sGLP"
      },
      "outputs": [],
      "source": [
        "import pandas as pd\n",
        "import numpy as np\n",
        "import matplotlib.pyplot as plt\n",
        "plt.style.use('ggplot')"
      ]
    },
    {
      "cell_type": "markdown",
      "metadata": {
        "id": "__y9x0HSta6B"
      },
      "source": [
        "## 3. Installation de PySpark et chargement de quelques librairies Spark"
      ]
    },
    {
      "cell_type": "code",
      "execution_count": null,
      "metadata": {
        "colab": {
          "base_uri": "https://localhost:8080/"
        },
        "id": "LPodv6TMsblN",
        "outputId": "cfc78c00-5f9a-4db0-b63a-0e40affd193f",
        "collapsed": true
      },
      "outputs": [
        {
          "output_type": "stream",
          "name": "stdout",
          "text": [
            "Requirement already satisfied: pyspark in /usr/local/lib/python3.11/dist-packages (3.5.1)\n",
            "Requirement already satisfied: py4j==0.10.9.7 in /usr/local/lib/python3.11/dist-packages (from pyspark) (0.10.9.7)\n",
            "Requirement already satisfied: pyspark[connect] in /usr/local/lib/python3.11/dist-packages (3.5.1)\n",
            "Requirement already satisfied: py4j==0.10.9.7 in /usr/local/lib/python3.11/dist-packages (from pyspark[connect]) (0.10.9.7)\n",
            "Requirement already satisfied: pandas>=1.0.5 in /usr/local/lib/python3.11/dist-packages (from pyspark[connect]) (2.2.2)\n",
            "Requirement already satisfied: pyarrow>=4.0.0 in /usr/local/lib/python3.11/dist-packages (from pyspark[connect]) (18.1.0)\n",
            "Requirement already satisfied: grpcio>=1.56.0 in /usr/local/lib/python3.11/dist-packages (from pyspark[connect]) (1.73.1)\n",
            "Requirement already satisfied: grpcio-status>=1.56.0 in /usr/local/lib/python3.11/dist-packages (from pyspark[connect]) (1.71.2)\n",
            "Requirement already satisfied: googleapis-common-protos>=1.56.4 in /usr/local/lib/python3.11/dist-packages (from pyspark[connect]) (1.70.0)\n",
            "Requirement already satisfied: numpy>=1.15 in /usr/local/lib/python3.11/dist-packages (from pyspark[connect]) (2.0.2)\n",
            "Requirement already satisfied: protobuf!=4.21.1,!=4.21.2,!=4.21.3,!=4.21.4,!=4.21.5,<7.0.0,>=3.20.2 in /usr/local/lib/python3.11/dist-packages (from googleapis-common-protos>=1.56.4->pyspark[connect]) (5.29.5)\n",
            "Requirement already satisfied: python-dateutil>=2.8.2 in /usr/local/lib/python3.11/dist-packages (from pandas>=1.0.5->pyspark[connect]) (2.9.0.post0)\n",
            "Requirement already satisfied: pytz>=2020.1 in /usr/local/lib/python3.11/dist-packages (from pandas>=1.0.5->pyspark[connect]) (2025.2)\n",
            "Requirement already satisfied: tzdata>=2022.7 in /usr/local/lib/python3.11/dist-packages (from pandas>=1.0.5->pyspark[connect]) (2025.2)\n",
            "Requirement already satisfied: six>=1.5 in /usr/local/lib/python3.11/dist-packages (from python-dateutil>=2.8.2->pandas>=1.0.5->pyspark[connect]) (1.17.0)\n",
            "Requirement already satisfied: pyspark[sql] in /usr/local/lib/python3.11/dist-packages (3.5.1)\n",
            "Requirement already satisfied: py4j==0.10.9.7 in /usr/local/lib/python3.11/dist-packages (from pyspark[sql]) (0.10.9.7)\n",
            "Requirement already satisfied: pandas>=1.0.5 in /usr/local/lib/python3.11/dist-packages (from pyspark[sql]) (2.2.2)\n",
            "Requirement already satisfied: pyarrow>=4.0.0 in /usr/local/lib/python3.11/dist-packages (from pyspark[sql]) (18.1.0)\n",
            "Requirement already satisfied: numpy>=1.15 in /usr/local/lib/python3.11/dist-packages (from pyspark[sql]) (2.0.2)\n",
            "Requirement already satisfied: python-dateutil>=2.8.2 in /usr/local/lib/python3.11/dist-packages (from pandas>=1.0.5->pyspark[sql]) (2.9.0.post0)\n",
            "Requirement already satisfied: pytz>=2020.1 in /usr/local/lib/python3.11/dist-packages (from pandas>=1.0.5->pyspark[sql]) (2025.2)\n",
            "Requirement already satisfied: tzdata>=2022.7 in /usr/local/lib/python3.11/dist-packages (from pandas>=1.0.5->pyspark[sql]) (2025.2)\n",
            "Requirement already satisfied: six>=1.5 in /usr/local/lib/python3.11/dist-packages (from python-dateutil>=2.8.2->pandas>=1.0.5->pyspark[sql]) (1.17.0)\n",
            "Requirement already satisfied: pyspark[pandas_on_spark] in /usr/local/lib/python3.11/dist-packages (3.5.1)\n",
            "Requirement already satisfied: py4j==0.10.9.7 in /usr/local/lib/python3.11/dist-packages (from pyspark[pandas_on_spark]) (0.10.9.7)\n",
            "Requirement already satisfied: pandas>=1.0.5 in /usr/local/lib/python3.11/dist-packages (from pyspark[pandas_on_spark]) (2.2.2)\n",
            "Requirement already satisfied: pyarrow>=4.0.0 in /usr/local/lib/python3.11/dist-packages (from pyspark[pandas_on_spark]) (18.1.0)\n",
            "Requirement already satisfied: numpy>=1.15 in /usr/local/lib/python3.11/dist-packages (from pyspark[pandas_on_spark]) (2.0.2)\n",
            "Requirement already satisfied: python-dateutil>=2.8.2 in /usr/local/lib/python3.11/dist-packages (from pandas>=1.0.5->pyspark[pandas_on_spark]) (2.9.0.post0)\n",
            "Requirement already satisfied: pytz>=2020.1 in /usr/local/lib/python3.11/dist-packages (from pandas>=1.0.5->pyspark[pandas_on_spark]) (2025.2)\n",
            "Requirement already satisfied: tzdata>=2022.7 in /usr/local/lib/python3.11/dist-packages (from pandas>=1.0.5->pyspark[pandas_on_spark]) (2025.2)\n",
            "Requirement already satisfied: six>=1.5 in /usr/local/lib/python3.11/dist-packages (from python-dateutil>=2.8.2->pandas>=1.0.5->pyspark[pandas_on_spark]) (1.17.0)\n",
            "Requirement already satisfied: plotly in /usr/local/lib/python3.11/dist-packages (5.24.1)\n",
            "Requirement already satisfied: pyspark[pandas_on_spark] in /usr/local/lib/python3.11/dist-packages (3.5.1)\n",
            "Requirement already satisfied: py4j==0.10.9.7 in /usr/local/lib/python3.11/dist-packages (from pyspark[pandas_on_spark]) (0.10.9.7)\n",
            "Requirement already satisfied: pandas>=1.0.5 in /usr/local/lib/python3.11/dist-packages (from pyspark[pandas_on_spark]) (2.2.2)\n",
            "Requirement already satisfied: pyarrow>=4.0.0 in /usr/local/lib/python3.11/dist-packages (from pyspark[pandas_on_spark]) (18.1.0)\n",
            "Requirement already satisfied: numpy>=1.15 in /usr/local/lib/python3.11/dist-packages (from pyspark[pandas_on_spark]) (2.0.2)\n",
            "Requirement already satisfied: tenacity>=6.2.0 in /usr/local/lib/python3.11/dist-packages (from plotly) (8.5.0)\n",
            "Requirement already satisfied: packaging in /usr/local/lib/python3.11/dist-packages (from plotly) (25.0)\n",
            "Requirement already satisfied: python-dateutil>=2.8.2 in /usr/local/lib/python3.11/dist-packages (from pandas>=1.0.5->pyspark[pandas_on_spark]) (2.9.0.post0)\n",
            "Requirement already satisfied: pytz>=2020.1 in /usr/local/lib/python3.11/dist-packages (from pandas>=1.0.5->pyspark[pandas_on_spark]) (2025.2)\n",
            "Requirement already satisfied: tzdata>=2022.7 in /usr/local/lib/python3.11/dist-packages (from pandas>=1.0.5->pyspark[pandas_on_spark]) (2025.2)\n",
            "Requirement already satisfied: six>=1.5 in /usr/local/lib/python3.11/dist-packages (from python-dateutil>=2.8.2->pandas>=1.0.5->pyspark[pandas_on_spark]) (1.17.0)\n"
          ]
        }
      ],
      "source": [
        "!pip install pyspark\n",
        "!pip install \"pyspark[connect]\"\n",
        "!pip install \"pyspark[sql]\"\n",
        "!pip install \"pyspark[pandas_on_spark]\"\n",
        "!pip install pyspark[pandas_on_spark] plotly"
      ]
    },
    {
      "cell_type": "code",
      "execution_count": null,
      "metadata": {
        "id": "2Mp9mw2pvRYh"
      },
      "outputs": [],
      "source": [
        "from pyspark.sql import SparkSession\n",
        "from pyspark.sql import functions as F\n",
        "from pyspark.ml.recommendation import ALS\n",
        "from pyspark.ml.evaluation import RegressionEvaluator\n",
        "from pyspark import StorageLevel"
      ]
    },
    {
      "cell_type": "markdown",
      "metadata": {
        "id": "XP7yfpU9vvlj"
      },
      "source": [
        "## 4. Création d'une session Spark"
      ]
    },
    {
      "cell_type": "code",
      "execution_count": null,
      "metadata": {
        "id": "vPbydNWEvn94"
      },
      "outputs": [],
      "source": [
        "spark = SparkSession.builder \\\n",
        "    .appName(\"MovieLens\") \\\n",
        "    .config(\"spark.driver.memory\", \"8g\") \\\n",
        "    .config(\"spark.executor.memory\", \"8g\") \\\n",
        "    .config(\"spark.memory.fraction\", \"0.8\") \\\n",
        "    .config(\"spark.sql.shuffle.partitions\", \"8\") \\\n",
        "    .master(\"local[*]\") \\\n",
        "    .getOrCreate()"
      ]
    },
    {
      "cell_type": "markdown",
      "metadata": {
        "id": "L7Ge7lnJxbji"
      },
      "source": [
        "## 5. Chargement des données"
      ]
    },
    {
      "cell_type": "code",
      "execution_count": null,
      "metadata": {
        "colab": {
          "base_uri": "https://localhost:8080/"
        },
        "id": "K8BF08fWv4p1",
        "outputId": "4f46579e-9089-4c10-f480-e92e3da22b4b"
      },
      "outputs": [
        {
          "output_type": "stream",
          "name": "stdout",
          "text": [
            "Drive already mounted at /content/drive; to attempt to forcibly remount, call drive.mount(\"/content/drive\", force_remount=True).\n"
          ]
        }
      ],
      "source": [
        "# Connexion à Google Drive\n",
        "\n",
        "from google.colab import drive\n",
        "drive.mount('/content/drive')"
      ]
    },
    {
      "cell_type": "code",
      "execution_count": null,
      "metadata": {
        "id": "E-d1oGWRxtw-"
      },
      "outputs": [],
      "source": [
        "# Chargement des données dans des DataFrames Spark\n",
        "\n",
        "movies = spark.read.csv(\"/content/drive/MyDrive/ml-32m/movies.csv\", header=True, inferSchema=True)\n",
        "ratings = spark.read.csv(\"/content/drive/MyDrive/ml-32m/ratings.csv\", header=True, inferSchema=True)"
      ]
    },
    {
      "cell_type": "markdown",
      "metadata": {
        "id": "tv3MUeHM0OMX"
      },
      "source": [
        "## 6. Exploration des données"
      ]
    },
    {
      "cell_type": "code",
      "execution_count": null,
      "metadata": {
        "colab": {
          "base_uri": "https://localhost:8080/"
        },
        "id": "bkbkvCZ3zl8H",
        "outputId": "c93bd163-c754-4676-eee3-76b709f4a0d1",
        "collapsed": true
      },
      "outputs": [
        {
          "name": "stdout",
          "output_type": "stream",
          "text": [
            "+-------+--------------------+--------------------+\n",
            "|movieId|               title|              genres|\n",
            "+-------+--------------------+--------------------+\n",
            "|      1|    Toy Story (1995)|Adventure|Animati...|\n",
            "|      2|      Jumanji (1995)|Adventure|Childre...|\n",
            "|      3|Grumpier Old Men ...|      Comedy|Romance|\n",
            "|      4|Waiting to Exhale...|Comedy|Drama|Romance|\n",
            "|      5|Father of the Bri...|              Comedy|\n",
            "|      6|         Heat (1995)|Action|Crime|Thri...|\n",
            "|      7|      Sabrina (1995)|      Comedy|Romance|\n",
            "|      8| Tom and Huck (1995)|  Adventure|Children|\n",
            "|      9| Sudden Death (1995)|              Action|\n",
            "|     10|    GoldenEye (1995)|Action|Adventure|...|\n",
            "+-------+--------------------+--------------------+\n",
            "only showing top 10 rows\n",
            "\n",
            "root\n",
            " |-- movieId: integer (nullable = true)\n",
            " |-- title: string (nullable = true)\n",
            " |-- genres: string (nullable = true)\n",
            "\n",
            "+------+-------+------+---------+\n",
            "|userId|movieId|rating|timestamp|\n",
            "+------+-------+------+---------+\n",
            "|     1|     17|   4.0|944249077|\n",
            "|     1|     25|   1.0|944250228|\n",
            "|     1|     29|   2.0|943230976|\n",
            "|     1|     30|   5.0|944249077|\n",
            "|     1|     32|   5.0|943228858|\n",
            "|     1|     34|   2.0|943228491|\n",
            "|     1|     36|   1.0|944249008|\n",
            "|     1|     80|   5.0|944248943|\n",
            "|     1|    110|   3.0|943231119|\n",
            "|     1|    111|   5.0|944249008|\n",
            "+------+-------+------+---------+\n",
            "only showing top 10 rows\n",
            "\n",
            "root\n",
            " |-- userId: integer (nullable = true)\n",
            " |-- movieId: integer (nullable = true)\n",
            " |-- rating: double (nullable = true)\n",
            " |-- timestamp: integer (nullable = true)\n",
            "\n"
          ]
        }
      ],
      "source": [
        "# Affichage des 10 premières lignes de chaque DataFrame ainsi que des colonnes\n",
        "#et types de données\n",
        "\n",
        "movies.show(10)\n",
        "movies.printSchema()\n",
        "\n",
        "ratings.show(10)\n",
        "ratings.printSchema()\n"
      ]
    },
    {
      "cell_type": "markdown",
      "metadata": {
        "id": "BpxR0tKA4hDm"
      },
      "source": [
        "### 6.1. Manipulation des données"
      ]
    },
    {
      "cell_type": "code",
      "execution_count": null,
      "metadata": {
        "colab": {
          "base_uri": "https://localhost:8080/"
        },
        "id": "DsLc1OTx1Htp",
        "outputId": "6e8ca0d3-7f7a-46cf-8ccd-683725f2a38d",
        "collapsed": true
      },
      "outputs": [
        {
          "output_type": "stream",
          "name": "stdout",
          "text": [
            "+-------+-----------------+---------------+--------------------+\n",
            "|summary|          movieId|          title|              genres|\n",
            "+-------+-----------------+---------------+--------------------+\n",
            "|  count|            87585|          87585|               87585|\n",
            "|   mean|157651.3655192099|           NULL|                NULL|\n",
            "| stddev|79013.40209904719|           NULL|                NULL|\n",
            "|    min|                1|         (2019)| We're Comin' To ...|\n",
            "|    max|           292757|줄탁동시 (2012)|             Western|\n",
            "+-------+-----------------+---------------+--------------------+\n",
            "\n",
            "+-------+------------------+------------------+------------------+--------------------+\n",
            "|summary|            userId|           movieId|            rating|           timestamp|\n",
            "+-------+------------------+------------------+------------------+--------------------+\n",
            "|  count|          32000204|          32000204|          32000204|            32000204|\n",
            "|   mean|100278.50641102163|29318.610121829224|3.5403956487277393|1.2752411995732634E9|\n",
            "| stddev|57949.046233252906| 50958.16087967011| 1.058986213945308|2.5616297595059687E8|\n",
            "|    min|                 1|                 1|               0.5|           789652004|\n",
            "|    max|            200948|            292757|               5.0|          1697164147|\n",
            "+-------+------------------+------------------+------------------+--------------------+\n",
            "\n"
          ]
        }
      ],
      "source": [
        "# Description\n",
        "\n",
        "movies.describe().show()\n",
        "ratings.describe().show()\n"
      ]
    },
    {
      "cell_type": "code",
      "execution_count": null,
      "metadata": {
        "colab": {
          "base_uri": "https://localhost:8080/"
        },
        "id": "KWM3Xabg495f",
        "outputId": "642c248e-fbfa-44ce-d185-e208404087f0",
        "collapsed": true
      },
      "outputs": [
        {
          "output_type": "stream",
          "name": "stdout",
          "text": [
            "== Structure de movies :\n",
            "root\n",
            " |-- movieId: integer (nullable = true)\n",
            " |-- title: string (nullable = true)\n",
            " |-- genres: string (nullable = true)\n",
            "\n",
            "== Nombre de lignes : 87585\n",
            "== Colonnes : ['movieId', 'title', 'genres']\n",
            "\n",
            "== Valeurs nulles par colonne :\n",
            "+-------+-----+------+\n",
            "|movieId|title|genres|\n",
            "+-------+-----+------+\n",
            "|      0|    0|     0|\n",
            "+-------+-----+------+\n",
            "\n",
            "\n",
            "== Nombre de doublons (toutes colonnes) : 0\n",
            "\n",
            "======================================================================\n",
            "== Structure de ratings :\n",
            "root\n",
            " |-- userId: integer (nullable = true)\n",
            " |-- movieId: integer (nullable = true)\n",
            " |-- rating: double (nullable = true)\n",
            " |-- timestamp: integer (nullable = true)\n",
            "\n",
            "== Nombre de lignes : 32000204\n",
            "== Colonnes : ['userId', 'movieId', 'rating', 'timestamp']\n",
            "\n",
            "== Valeurs nulles par colonne :\n",
            "+------+-------+------+---------+\n",
            "|userId|movieId|rating|timestamp|\n",
            "+------+-------+------+---------+\n",
            "|     0|      0|     0|        0|\n",
            "+------+-------+------+---------+\n",
            "\n",
            "\n",
            "== Nombre de doublons (toutes colonnes) : 0\n"
          ]
        }
      ],
      "source": [
        "# Nombre d'observations, de valeurs nulles et de doublons\n",
        "\n",
        "from pyspark.sql.functions import col, sum\n",
        "\n",
        "print(\"== Structure de movies :\")\n",
        "movies.printSchema()\n",
        "print(f\"== Nombre de lignes : {movies.count()}\")\n",
        "print(f\"== Colonnes : {movies.columns}\")\n",
        "\n",
        "print(\"\\n== Valeurs nulles par colonne :\")\n",
        "movies.select([sum(col(c).isNull().cast(\"int\")).alias(c) for c in movies.columns]).show()\n",
        "\n",
        "print(f\"\\n== Nombre de doublons (toutes colonnes) : {movies.count() - movies.dropDuplicates().count()}\")\n",
        "\n",
        "print(f\"\\n======================================================================\")\n",
        "\n",
        "from pyspark.sql.functions import col, sum\n",
        "\n",
        "print(\"== Structure de ratings :\")\n",
        "ratings.printSchema()\n",
        "print(f\"== Nombre de lignes : {ratings.count()}\")\n",
        "print(f\"== Colonnes : {ratings.columns}\")\n",
        "\n",
        "print(\"\\n== Valeurs nulles par colonne :\")\n",
        "ratings.select([sum(col(c).isNull().cast(\"int\")).alias(c) for c in ratings.columns]).show()\n",
        "\n",
        "print(f\"\\n== Nombre de doublons (toutes colonnes) : {ratings.count() - ratings.dropDuplicates().count()}\")"
      ]
    },
    {
      "cell_type": "markdown",
      "metadata": {
        "id": "9_C9BtdI-xHf"
      },
      "source": [
        "Les deux dataframes n'ont pas le même nombre d'observations: il y a 87 585 observations dans movies et 32 000 204 observations dans ratings. Nous décidons de conserver les films pour lesquels on a toutes les informations (moviesId, title, genres, userId, rating et timestamp). On fera donc une jointure sur la colonne movieId."
      ]
    },
    {
      "cell_type": "code",
      "execution_count": null,
      "metadata": {
        "colab": {
          "base_uri": "https://localhost:8080/"
        },
        "id": "fIVfVjiB6aNi",
        "outputId": "82468d57-3141-4abd-8875-82f51c01982b",
        "collapsed": true
      },
      "outputs": [
        {
          "output_type": "stream",
          "name": "stdout",
          "text": [
            "+-------+--------------------+--------------------+------+------+---------+\n",
            "|movieId|               title|              genres|userId|rating|timestamp|\n",
            "+-------+--------------------+--------------------+------+------+---------+\n",
            "|     17|Sense and Sensibi...|       Drama|Romance|     1|   4.0|944249077|\n",
            "|     25|Leaving Las Vegas...|       Drama|Romance|     1|   1.0|944250228|\n",
            "|     29|City of Lost Chil...|Adventure|Drama|F...|     1|   2.0|943230976|\n",
            "|     30|Shanghai Triad (Y...|         Crime|Drama|     1|   5.0|944249077|\n",
            "|     32|Twelve Monkeys (a...|Mystery|Sci-Fi|Th...|     1|   5.0|943228858|\n",
            "|     34|         Babe (1995)|      Children|Drama|     1|   2.0|943228491|\n",
            "|     36|Dead Man Walking ...|         Crime|Drama|     1|   1.0|944249008|\n",
            "|     80|White Balloon, Th...|      Children|Drama|     1|   5.0|944248943|\n",
            "|    110|   Braveheart (1995)|    Action|Drama|War|     1|   3.0|943231119|\n",
            "|    111|  Taxi Driver (1976)|Crime|Drama|Thriller|     1|   5.0|944249008|\n",
            "+-------+--------------------+--------------------+------+------+---------+\n",
            "only showing top 10 rows\n",
            "\n"
          ]
        }
      ],
      "source": [
        "# Jointure\n",
        "\n",
        "df = movies.join(ratings, on=\"movieId\", how=\"inner\")\n",
        "df.show(10)"
      ]
    },
    {
      "cell_type": "code",
      "execution_count": null,
      "metadata": {
        "colab": {
          "base_uri": "https://localhost:8080/"
        },
        "id": "KfZZJCpPFRfp",
        "outputId": "9fd9c40f-df16-411b-e18c-190c84343aef",
        "collapsed": true
      },
      "outputs": [
        {
          "output_type": "stream",
          "name": "stdout",
          "text": [
            "== Structure de df :\n",
            "root\n",
            " |-- movieId: integer (nullable = true)\n",
            " |-- title: string (nullable = true)\n",
            " |-- genres: string (nullable = true)\n",
            " |-- userId: integer (nullable = true)\n",
            " |-- rating: double (nullable = true)\n",
            " |-- timestamp: integer (nullable = true)\n",
            "\n",
            "== Nombre de lignes : 32000204\n",
            "== Colonnes : ['movieId', 'title', 'genres', 'userId', 'rating', 'timestamp']\n",
            "\n",
            "== Valeurs nulles par colonne :\n",
            "+-------+-----+------+------+------+---------+\n",
            "|movieId|title|genres|userId|rating|timestamp|\n",
            "+-------+-----+------+------+------+---------+\n",
            "|      0|    0|     0|     0|     0|        0|\n",
            "+-------+-----+------+------+------+---------+\n",
            "\n",
            "\n",
            "== Nombre de doublons (toutes colonnes) : 0\n"
          ]
        }
      ],
      "source": [
        "# Structure de df\n",
        "\n",
        "print(\"== Structure de df :\")\n",
        "df.printSchema()\n",
        "print(f\"== Nombre de lignes : {df.count()}\")\n",
        "print(f\"== Colonnes : {df.columns}\")\n",
        "\n",
        "print(\"\\n== Valeurs nulles par colonne :\")\n",
        "df.select([sum(col(c).isNull().cast(\"int\")).alias(c) for c in df.columns]).show()\n",
        "\n",
        "print(f\"\\n== Nombre de doublons (toutes colonnes) : {df.count() - df.dropDuplicates().count()}\")"
      ]
    },
    {
      "cell_type": "code",
      "execution_count": null,
      "metadata": {
        "colab": {
          "base_uri": "https://localhost:8080/"
        },
        "id": "RrSDqs1kFqNI",
        "outputId": "72312fc7-e4be-41e3-f9c9-90eeb00a16a1",
        "collapsed": true
      },
      "outputs": [
        {
          "output_type": "stream",
          "name": "stdout",
          "text": [
            "+-------+------+\n",
            "|movieId| count|\n",
            "+-------+------+\n",
            "|    318|102929|\n",
            "|    356|100296|\n",
            "|    296| 98409|\n",
            "|   2571| 93808|\n",
            "|    593| 90330|\n",
            "|    260| 85010|\n",
            "|   2959| 77332|\n",
            "|    480| 75233|\n",
            "|    527| 73849|\n",
            "|   4993| 73122|\n",
            "|   1196| 72151|\n",
            "|    110| 69482|\n",
            "|      1| 68997|\n",
            "|    589| 68383|\n",
            "|     50| 67750|\n",
            "|   1210| 67496|\n",
            "|   5952| 67463|\n",
            "|   7153| 67449|\n",
            "|   1198| 67408|\n",
            "|    858| 66440|\n",
            "+-------+------+\n",
            "only showing top 20 rows\n",
            "\n"
          ]
        }
      ],
      "source": [
        "# Occurences des films\n",
        "\n",
        "ratings.groupBy(\"movieId\").count().orderBy(\"count\", ascending=False).show()"
      ]
    },
    {
      "cell_type": "markdown",
      "metadata": {
        "id": "rWvYARV6e40h"
      },
      "source": [
        "## 6.2. Tendances générales"
      ]
    },
    {
      "cell_type": "code",
      "execution_count": null,
      "metadata": {
        "colab": {
          "base_uri": "https://localhost:8080/"
        },
        "id": "CXw7QPEVIgOx",
        "outputId": "5b41ab96-0e94-4d08-866f-f0e18871900e",
        "collapsed": true
      },
      "outputs": [
        {
          "output_type": "stream",
          "name": "stdout",
          "text": [
            "+--------------------+----------+\n",
            "|               title|avg_rating|\n",
            "+--------------------+----------+\n",
            "| Uncle Kruger (1941)|       5.0|\n",
            "|Birth of the Pear...|       5.0|\n",
            "| Silvery Moon (1933)|       5.0|\n",
            "|The Last 10 Years...|       5.0|\n",
            "|Daredevils of the...|       5.0|\n",
            "|The Fallen of Wor...|       5.0|\n",
            "|Artistic Creation...|       5.0|\n",
            "|The Law and the F...|       5.0|\n",
            "|   Snow Trail (1947)|       5.0|\n",
            "|The Maiden Danced...|       5.0|\n",
            "+--------------------+----------+\n",
            "only showing top 10 rows\n",
            "\n"
          ]
        }
      ],
      "source": [
        "# Les films les mieux notés en moyenne\n",
        "\n",
        "df.groupBy(\"title\").agg(F.avg(\"rating\").alias(\"avg_rating\")).orderBy(\"avg_rating\", ascending=False).show(10)"
      ]
    },
    {
      "cell_type": "code",
      "execution_count": null,
      "metadata": {
        "colab": {
          "base_uri": "https://localhost:8080/"
        },
        "id": "9nRHfcWWNXoy",
        "outputId": "8540da9e-ab1f-4677-87a2-0121971227c0",
        "collapsed": true
      },
      "outputs": [
        {
          "output_type": "stream",
          "name": "stdout",
          "text": [
            "+------------------+\n",
            "|             genre|\n",
            "+------------------+\n",
            "|             Crime|\n",
            "|            Horror|\n",
            "|         Adventure|\n",
            "|            Sci-Fi|\n",
            "|           Western|\n",
            "|           Musical|\n",
            "|           Romance|\n",
            "|           Mystery|\n",
            "|               War|\n",
            "|            Comedy|\n",
            "|       Documentary|\n",
            "|           Fantasy|\n",
            "|          Children|\n",
            "|             Drama|\n",
            "|              IMAX|\n",
            "|          Thriller|\n",
            "|         Animation|\n",
            "|(no genres listed)|\n",
            "|            Action|\n",
            "|         Film-Noir|\n",
            "+------------------+\n",
            "only showing top 20 rows\n",
            "\n"
          ]
        }
      ],
      "source": [
        "# Les genres distincts de films\n",
        "\n",
        "from pyspark.sql.functions import split, explode\n",
        "\n",
        "genres_unique_df = df.select(explode(split(col(\"genres\"), \"\\\\|\")).alias(\"genre\")).distinct()\n",
        "\n",
        "genres_unique_df.show()"
      ]
    },
    {
      "cell_type": "code",
      "execution_count": null,
      "metadata": {
        "colab": {
          "base_uri": "https://localhost:8080/"
        },
        "id": "wwr5m9kfTYWZ",
        "outputId": "0f4e24c2-2ac7-434a-f2d3-8781c76b1621"
      },
      "outputs": [
        {
          "output_type": "stream",
          "name": "stdout",
          "text": [
            "+---------+--------+-------+\n",
            "|    genre|   count|percent|\n",
            "+---------+--------+-------+\n",
            "|    Drama|13973271|  16.04|\n",
            "|   Comedy|11206925|  12.86|\n",
            "|   Action| 9665213|  11.09|\n",
            "| Thriller| 8679464|   9.96|\n",
            "|Adventure| 7590522|   8.71|\n",
            "|   Sci-Fi| 5717337|   6.56|\n",
            "|  Romance| 5524615|   6.34|\n",
            "|    Crime| 5373051|   6.17|\n",
            "|  Fantasy| 3702759|   4.25|\n",
            "| Children| 2731841|   3.14|\n",
            "+---------+--------+-------+\n",
            "only showing top 10 rows\n",
            "\n"
          ]
        }
      ],
      "source": [
        "# Les genres de films les plus populaires\n",
        "\n",
        "from pyspark.sql.functions import split, explode, col, count, round\n",
        "\n",
        "genres_exploded = df.select(explode(split(col(\"genres\"), \"\\\\|\")).alias(\"genre\"))\n",
        "\n",
        "total_genres = genres_exploded.count()\n",
        "\n",
        "genres_percent = genres_exploded.groupBy(\"genre\") \\\n",
        "    .agg(count(\"*\").alias(\"count\")) \\\n",
        "    .withColumn(\"percent\", round(col(\"count\") / total_genres * 100, 2)) \\\n",
        "    .orderBy(col(\"percent\").desc())\n",
        "\n",
        "genres_percent.show(10)\n"
      ]
    },
    {
      "cell_type": "code",
      "source": [
        "# Rating moyen par genre\n",
        "\n",
        "from pyspark.sql.functions import split, explode, col, avg, round\n",
        "\n",
        "df = df.withColumn(\"genres_list\", split(col(\"genres\"), \"\\|\"))\n",
        "\n",
        "df_genres = df.withColumn(\"genre\", explode(col(\"genres_list\")))\n",
        "\n",
        "genre_ratings = (\n",
        "    df_genres.groupBy(\"genre\")\n",
        "             .agg(round(avg(\"rating\"), 2).alias(\"rating_moyen\"))\n",
        "             .orderBy(col(\"rating_moyen\").desc())\n",
        ")\n",
        "\n",
        "genre_ratings.show(truncate=False)"
      ],
      "metadata": {
        "colab": {
          "base_uri": "https://localhost:8080/"
        },
        "id": "jhOB9lSYnyym",
        "outputId": "0113bb3d-ae07-4789-afba-94559be7505f"
      },
      "execution_count": null,
      "outputs": [
        {
          "output_type": "stream",
          "name": "stdout",
          "text": [
            "+------------------+------------+\n",
            "|genre             |rating_moyen|\n",
            "+------------------+------------+\n",
            "|Film-Noir         |3.92        |\n",
            "|War               |3.79        |\n",
            "|Crime             |3.69        |\n",
            "|Documentary       |3.69        |\n",
            "|Drama             |3.68        |\n",
            "|Mystery           |3.67        |\n",
            "|Animation         |3.62        |\n",
            "|Western           |3.6         |\n",
            "|IMAX              |3.59        |\n",
            "|Musical           |3.55        |\n",
            "|Romance           |3.55        |\n",
            "|Thriller          |3.53        |\n",
            "|Adventure         |3.52        |\n",
            "|Fantasy           |3.51        |\n",
            "|Sci-Fi            |3.49        |\n",
            "|Action            |3.48        |\n",
            "|Children          |3.44        |\n",
            "|Comedy            |3.43        |\n",
            "|(no genres listed)|3.37        |\n",
            "|Horror            |3.31        |\n",
            "+------------------+------------+\n",
            "only showing top 20 rows\n",
            "\n"
          ]
        }
      ]
    },
    {
      "cell_type": "markdown",
      "source": [
        "Les genres de films les mieux notés sont les Film-Noir, les films de guerre, de crime, les documentaires, les drama et les films mystères."
      ],
      "metadata": {
        "id": "Y1gznL6bpt06"
      }
    },
    {
      "cell_type": "code",
      "source": [
        "genre_ratings.tail(5)"
      ],
      "metadata": {
        "colab": {
          "base_uri": "https://localhost:8080/"
        },
        "id": "OauK7il0uGhh",
        "outputId": "ae6adfbe-8310-4f46-a0f8-4dc8cb76678a"
      },
      "execution_count": null,
      "outputs": [
        {
          "output_type": "execute_result",
          "data": {
            "text/plain": [
              "[Row(genre='Children', rating_moyen=3.44),\n",
              " Row(genre='Comedy', rating_moyen=3.43),\n",
              " Row(genre='(no genres listed)', rating_moyen=3.37),\n",
              " Row(genre='Horror', rating_moyen=3.31),\n",
              " Row(genre=' We\\'re Comin\\' To Get Ya!\"\" (2014)\"', rating_moyen=2.0)]"
            ]
          },
          "metadata": {},
          "execution_count": 13
        }
      ]
    },
    {
      "cell_type": "markdown",
      "source": [
        "Les films d'horreur sont en moyenne les moins bien notés, suivi des films qui n'ont pas pu être classés dans une classe de genre.Les films de comédieet d'enfants sont également moins appréciés si on ne se réfère qu'aux notes. On note également un problème: le nom d'un film s'est cassé en plusieurs chaînes de caractères, dont une partie s'est retrouvée dans les genres. Essayons de régler ce problème.  "
      ],
      "metadata": {
        "id": "BHLEtEvTuZqk"
      }
    },
    {
      "cell_type": "code",
      "source": [
        "from pyspark.sql.functions import col\n",
        "\n",
        "movie_id_cherche = 284105\n",
        "ligne = df.filter(col(\"movieId\") == movie_id_cherche)\n",
        "\n",
        "row = ligne.first()\n",
        "\n",
        "if row:\n",
        "    for clé, valeur in row.asDict().items():\n",
        "        print(f\"{clé}: {valeur}\")\n",
        "else:\n",
        "    print(f\"Aucune ligne trouvée pour movieId = {movie_id_cherche}\")"
      ],
      "metadata": {
        "colab": {
          "base_uri": "https://localhost:8080/"
        },
        "id": "W7qWFGVAuGPB",
        "outputId": "478ea70e-8e85-44a8-9e08-940dfeb39661"
      },
      "execution_count": null,
      "outputs": [
        {
          "output_type": "stream",
          "name": "stdout",
          "text": [
            "movieId: 284105\n",
            "title: \"The Newbridge Tourism Board Presents: \"\"We're Newbridge\n",
            "genres:  We're Comin' To Get Ya!\"\" (2014)\"\n",
            "userId: 32466\n",
            "rating: 2.0\n",
            "timestamp: 1677106513\n",
            "genres_list: [' We\\'re Comin\\' To Get Ya!\"\" (2014)\"']\n"
          ]
        }
      ]
    },
    {
      "cell_type": "code",
      "source": [
        "from pyspark.sql.functions import when, array, lit\n",
        "\n",
        "movie_id = 284105\n",
        "titre_corrige = 'The Newbridge Tourism Board Presents: \"We\\'re Newbridge, We\\'re Comin\\' To Get Ya!\" (2014)'\n",
        "genre_corrige = 'Comedy'\n",
        "genres_list_corrige = ['Comedy']\n",
        "\n",
        "df = (\n",
        "    df.withColumn(\n",
        "        \"title\",\n",
        "        when(col(\"movieId\") == movie_id, lit(titre_corrige)).otherwise(col(\"title\"))\n",
        "    )\n",
        "    .withColumn(\n",
        "        \"genres\",\n",
        "        when(col(\"movieId\") == movie_id, lit(genre_corrige)).otherwise(col(\"genres\"))\n",
        "    )\n",
        "    .withColumn(\n",
        "        \"genres_list\",\n",
        "        when(col(\"movieId\") == movie_id, array(lit(\"Comedy\"))).otherwise(col(\"genres_list\"))\n",
        "    )\n",
        ")"
      ],
      "metadata": {
        "id": "0XBqFEOFwrAg"
      },
      "execution_count": null,
      "outputs": []
    },
    {
      "cell_type": "markdown",
      "source": [
        "On peut maintenant reprendre le calcul du rating moyen par genre."
      ],
      "metadata": {
        "id": "uu8iMR3Nw_-c"
      }
    },
    {
      "cell_type": "code",
      "source": [
        "# Rating moyen par genre\n",
        "\n",
        "from pyspark.sql.functions import split, explode, col, avg, round\n",
        "\n",
        "df = df.withColumn(\"genres_list\", split(col(\"genres\"), \"\\|\"))\n",
        "\n",
        "df_genres = df.withColumn(\"genre\", explode(col(\"genres_list\")))\n",
        "\n",
        "genre_ratings = (\n",
        "    df_genres.groupBy(\"genre\")\n",
        "             .agg(round(avg(\"rating\"), 2).alias(\"rating_moyen\"))\n",
        "             .orderBy(col(\"rating_moyen\").desc())\n",
        ")\n",
        "\n",
        "genre_ratings.show(truncate=False)\n",
        "\n",
        "genre_ratings.tail(5)\n"
      ],
      "metadata": {
        "colab": {
          "base_uri": "https://localhost:8080/"
        },
        "id": "sOcctbwDwy82",
        "outputId": "9e36af33-fe8f-403b-fb07-dbd82e92ea37"
      },
      "execution_count": null,
      "outputs": [
        {
          "output_type": "stream",
          "name": "stdout",
          "text": [
            "+------------------+------------+\n",
            "|genre             |rating_moyen|\n",
            "+------------------+------------+\n",
            "|Film-Noir         |3.92        |\n",
            "|War               |3.79        |\n",
            "|Crime             |3.69        |\n",
            "|Documentary       |3.69        |\n",
            "|Drama             |3.68        |\n",
            "|Mystery           |3.67        |\n",
            "|Animation         |3.62        |\n",
            "|Western           |3.6         |\n",
            "|IMAX              |3.59        |\n",
            "|Musical           |3.55        |\n",
            "|Romance           |3.55        |\n",
            "|Thriller          |3.53        |\n",
            "|Adventure         |3.52        |\n",
            "|Fantasy           |3.51        |\n",
            "|Sci-Fi            |3.49        |\n",
            "|Action            |3.48        |\n",
            "|Children          |3.44        |\n",
            "|Comedy            |3.43        |\n",
            "|(no genres listed)|3.37        |\n",
            "|Horror            |3.31        |\n",
            "+------------------+------------+\n",
            "\n"
          ]
        },
        {
          "output_type": "execute_result",
          "data": {
            "text/plain": [
              "[Row(genre='Action', rating_moyen=3.48),\n",
              " Row(genre='Children', rating_moyen=3.44),\n",
              " Row(genre='Comedy', rating_moyen=3.43),\n",
              " Row(genre='(no genres listed)', rating_moyen=3.37),\n",
              " Row(genre='Horror', rating_moyen=3.31)]"
            ]
          },
          "metadata": {},
          "execution_count": 20
        }
      ]
    },
    {
      "cell_type": "code",
      "source": [
        "df.describe().show()"
      ],
      "metadata": {
        "colab": {
          "base_uri": "https://localhost:8080/"
        },
        "id": "7eywNUjmrUIc",
        "outputId": "80dd3709-335a-4d03-a7c8-b7218fbff07f"
      },
      "execution_count": null,
      "outputs": [
        {
          "output_type": "stream",
          "name": "stdout",
          "text": [
            "+-------+------------------+---------------+------------------+------------------+------------------+--------------------+\n",
            "|summary|           movieId|          title|            genres|            userId|            rating|           timestamp|\n",
            "+-------+------------------+---------------+------------------+------------------+------------------+--------------------+\n",
            "|  count|          32000204|       32000204|          32000204|          32000204|          32000204|            32000204|\n",
            "|   mean|29318.610121829224|           NULL|              NULL|100278.50641102163|3.5403956487277393|1.2752411995732634E9|\n",
            "| stddev| 50958.16087967011|           NULL|              NULL|57949.046233252906| 1.058986213945308|2.5616297595059687E8|\n",
            "|    min|                 1|         (2019)|(no genres listed)|                 1|               0.5|           789652004|\n",
            "|    max|            292757|줄탁동시 (2012)|           Western|            200948|               5.0|          1697164147|\n",
            "+-------+------------------+---------------+------------------+------------------+------------------+--------------------+\n",
            "\n"
          ]
        }
      ]
    },
    {
      "cell_type": "code",
      "source": [
        "# Sauvegarde du DataFrame\n",
        "\n",
        "df.write.mode(\"overwrite\").parquet(\"/content/drive/MyDrive/ml-32m/df.parquet\")"
      ],
      "metadata": {
        "id": "NqLoAbE-3Tf1"
      },
      "execution_count": null,
      "outputs": []
    },
    {
      "cell_type": "markdown",
      "source": [
        "  Les notes varient de 0.5 à 5; en moyenne, elles sont assez élevées (près de 3.6)"
      ],
      "metadata": {
        "id": "WMuy1wnK0kIS"
      }
    },
    {
      "cell_type": "markdown",
      "source": [
        "### 6.3. Représentations graphiques"
      ],
      "metadata": {
        "id": "jHEvLU8pgUnB"
      }
    },
    {
      "cell_type": "code",
      "source": [
        "from pyspark.sql.functions import regexp_extract, col\n",
        "\n",
        "# Extraction de l'année du titre par expression régulière (format \"(YYYY)\"\n",
        "df = df.withColumn(\"year\", regexp_extract(col(\"title\"), r\"\\((\\d{4})\\)\", 1))\n",
        "\n",
        "# Convertion en entier (ou null si NaN/non trouvé)\n",
        "from pyspark.sql.functions import when\n",
        "\n",
        "df = df.withColumn(\n",
        "    \"year\",\n",
        "    when(col(\"year\") != \"\", col(\"year\").cast(\"int\")).otherwise(None)\n",
        ")\n",
        "\n",
        "# Vérification du résultat\n",
        "df.select(\"title\", \"year\").show(10)"
      ],
      "metadata": {
        "colab": {
          "base_uri": "https://localhost:8080/"
        },
        "id": "1BDiPB80ga5F",
        "outputId": "8daeaa18-6511-4065-d42c-03e0fd6a8bfb"
      },
      "execution_count": null,
      "outputs": [
        {
          "output_type": "stream",
          "name": "stdout",
          "text": [
            "+--------------------+----+\n",
            "|               title|year|\n",
            "+--------------------+----+\n",
            "|Sense and Sensibi...|1995|\n",
            "|Leaving Las Vegas...|1995|\n",
            "|City of Lost Chil...|1995|\n",
            "|Shanghai Triad (Y...|1995|\n",
            "|Twelve Monkeys (a...|1995|\n",
            "|         Babe (1995)|1995|\n",
            "|Dead Man Walking ...|1995|\n",
            "|White Balloon, Th...|1995|\n",
            "|   Braveheart (1995)|1995|\n",
            "|  Taxi Driver (1976)|1976|\n",
            "+--------------------+----+\n",
            "only showing top 10 rows\n",
            "\n"
          ]
        }
      ]
    },
    {
      "cell_type": "code",
      "source": [
        "from pyspark.sql.functions import expr, regexp_extract, when, col\n",
        "\n",
        "# Regex pour capter \"(YYYY)\" à la fin du titre\n",
        "annee_presente = col(\"title\").rlike(r\"\\(\\d{4}\\)$\")\n",
        "\n",
        "# Suppression des 7 derniers caractères si l'année est présente\n",
        "df = df.withColumn(\n",
        "    \"title_sans_annee\",\n",
        "    when(\n",
        "        annee_presente,\n",
        "        expr(\"substring(title, 1, length(title)-7)\")\n",
        "    ).otherwise(col(\"title\"))\n",
        ")"
      ],
      "metadata": {
        "id": "lqQ0_8obggK0"
      },
      "execution_count": null,
      "outputs": []
    },
    {
      "cell_type": "code",
      "source": [
        "from pyspark.sql.functions import regexp_extract, col\n",
        "\n",
        "# Extraire l'année, puis filtrer les lignes où l'année n’a pas été trouvée\n",
        "df = df.withColumn(\n",
        "    \"year\",\n",
        "    regexp_extract(col(\"title\"), r\"\\((\\d{4})\\)\", 1).cast(\"int\")\n",
        ").filter(col(\"year\").isNotNull())"
      ],
      "metadata": {
        "id": "V8wrnOr4h-Vx"
      },
      "execution_count": null,
      "outputs": []
    },
    {
      "cell_type": "code",
      "source": [
        "ratings_per_year = (\n",
        "    df.filter(col(\"year\").isNotNull())\n",
        "      .groupBy(\"year\")\n",
        "      .count()\n",
        "      .withColumnRenamed(\"count\", \"ratings_count\")\n",
        "      .orderBy(\"year\")\n",
        ")"
      ],
      "metadata": {
        "id": "z1Eb7RGbj1RZ"
      },
      "execution_count": null,
      "outputs": []
    },
    {
      "cell_type": "code",
      "source": [
        "# Nombre de films sortis par an\n",
        "\n",
        "films_per_year = df.select(\"movieId\", \"year\").distinct().groupBy(\"year\").count().orderBy(\"year\")"
      ],
      "metadata": {
        "id": "fipAdJhPj70l"
      },
      "execution_count": null,
      "outputs": []
    },
    {
      "cell_type": "code",
      "source": [
        "# Nombre de ratings par an\n",
        "\n",
        "ratings_per_year = df.groupBy(\"year\").count().withColumnRenamed(\"count\", \"ratings_count\").orderBy(\"year\")\n"
      ],
      "metadata": {
        "id": "U2CGyLs1kGou"
      },
      "execution_count": null,
      "outputs": []
    },
    {
      "cell_type": "code",
      "source": [
        "# Fuison\n",
        "\n",
        "films_pd    = films_per_year.toPandas()\n",
        "ratings_pd  = ratings_per_year.toPandas()\n",
        "\n",
        "import pandas as pd\n",
        "merged = pd.merge(films_pd, ratings_pd, on='year', how='inner')\n"
      ],
      "metadata": {
        "id": "n1_RG-unkRTH"
      },
      "execution_count": null,
      "outputs": []
    },
    {
      "cell_type": "code",
      "source": [
        "import matplotlib.pyplot as plt\n",
        "\n",
        "fig, ax1 = plt.subplots(figsize=(10,5))\n",
        "\n",
        "color = 'tab:green'\n",
        "ax1.set_xlabel('Année')\n",
        "ax1.set_ylabel('Nombre de films sortis', color=color)\n",
        "ax1.plot(merged['year'], merged['count'], color=color, marker=\"o\")\n",
        "ax1.tick_params(axis='y', labelcolor=color)\n",
        "\n",
        "ax2 = ax1.twinx()\n",
        "color = 'tab:blue'\n",
        "ax2.set_ylabel('Nombre de Ratings', color=color)\n",
        "ax2.plot(merged['year'], merged['ratings_count'], color=color, marker=\"o\")\n",
        "ax2.tick_params(axis='y', labelcolor=color)\n",
        "\n",
        "plt.title(\"Movies per year\")\n",
        "plt.show()"
      ],
      "metadata": {
        "colab": {
          "base_uri": "https://localhost:8080/",
          "height": 492
        },
        "id": "Un-4LxIxkXj_",
        "outputId": "a42585f7-9dab-4d77-a58d-45ac222e92c3"
      },
      "execution_count": null,
      "outputs": [
        {
          "output_type": "display_data",
          "data": {
            "text/plain": [
              "<Figure size 1000x500 with 2 Axes>"
            ],
            "image/png": "[encoded data removed]"
          },
          "metadata": {}
        }
      ]
    },
    {
      "cell_type": "markdown",
      "source": [
        "Au fil des années, beaucoup plus de films sont sortis, et les utilisateurs donnent de plus en plus de notes. On note aussi une diminution du nombre de films sortis à partir de 2018, précédée vers 1990 d'une diminution d'avis sur les films (peut-être pas mis à jour)."
      ],
      "metadata": {
        "id": "Q3S7ZmTYlqIG"
      }
    },
    {
      "cell_type": "code",
      "source": [],
      "metadata": {
        "id": "s8kqACdimawc"
      },
      "execution_count": null,
      "outputs": []
    }
  ],
  "metadata": {
    "colab": {
      "provenance": []
    },
    "kernelspec": {
      "display_name": "Python 3",
      "name": "python3"
    },
    "language_info": {
      "name": "python"
    }
  },
  "nbformat": 4,
  "nbformat_minor": 0
}